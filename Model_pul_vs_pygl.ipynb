{
 "cells": [
  {
   "cell_type": "markdown",
   "metadata": {},
   "source": [
    "# Model for Oligosaccharide degradation under various enzymes "
   ]
  },
  {
   "cell_type": "code",
   "execution_count": 388,
   "metadata": {},
   "outputs": [],
   "source": [
    "import numpy as np\n",
    "import math\n",
    "import matplotlib.pyplot as plt\n",
    "from pprint import pprint\n",
    "import random\n"
   ]
  },
  {
   "cell_type": "code",
   "execution_count": 389,
   "metadata": {},
   "outputs": [],
   "source": [
    "class enzyme:\n",
    "    def __init__(self, name, kind = None):\n",
    "        self.name = name\n",
    "        self.kind = kind   #useless\n",
    "#    def act(self,liste):\n",
    "#        pass\n",
    "    \n",
    "    \n",
    "class structure:\n",
    "    def __init__(self, chain_length_A, chain_length_B):\n",
    "        self.dpa = chain_length_A\n",
    "        self.dpb = chain_length_B\n",
    "        \n",
    "        #attribute location correspond to the glucose position of the branch\n",
    "        ## In the current exemple, if the B chain goes from glucose 1 to n, we select a glucose unit in the range\n",
    "        ## [2,n-1] excluding therefore the reducing and non reducing end\n",
    "        self.location = random.randint(2, chain_length_B - 1)       "
   ]
  },
  {
   "cell_type": "markdown",
   "metadata": {},
   "source": [
    "#### Enzyme object creation\n",
    "\n",
    "Creation of an enzyme called ```Pul``` with name ```'pululanase'``` and type ```'degrading'```.\n",
    "\n",
    "add attributes ``` dp_cleave = 2; ``` which corresponds to the number of glucose cleaved by  pululanase,\n",
    "and ``` distance_to_stop = 3; ``` which corresponds to the distance from a branch where it can react. \n",
    "\n",
    "<br>\n",
    "<font color='red'>  The following two values can be changed:  </font> "
   ]
  },
  {
   "cell_type": "code",
   "execution_count": 390,
   "metadata": {},
   "outputs": [],
   "source": [
    "Pul = enzyme('pululanase', 'degrading')\n",
    "Pul.dp_cleave = 2;\n",
    "Pul.distance_to_stop = 3;"
   ]
  },
  {
   "cell_type": "code",
   "execution_count": 404,
   "metadata": {},
   "outputs": [],
   "source": [
    "Pygl = enzyme('glycogen_phosphorilase', 'degrading')\n",
    "Pygl.dp_cleave = 1\n",
    "Pygl.distance_to_stop = 4"
   ]
  },
  {
   "cell_type": "markdown",
   "metadata": {},
   "source": [
    "<br>\n",
    "Creation of a method that will be add to the enzyme ``` Pul ```.\n",
    "The method consist in taking a structure called here ```config``` and to reduce it, according to pululanase attributes:"
   ]
  },
  {
   "cell_type": "code",
   "execution_count": 391,
   "metadata": {},
   "outputs": [],
   "source": [
    "def act_pull(config):\n",
    "    while config.dpa > Pul.distance_to_stop :\n",
    "        config.dpa = config.dpa - Pul.dp_cleave\n",
    "    while config.dpb - config.location > Pul.distance_to_stop :\n",
    "        config.dpb = config.dpb - Pul.dp_cleave\n",
    "        \n",
    "Pul.act = act_pull"
   ]
  },
  {
   "cell_type": "markdown",
   "metadata": {},
   "source": [
    "#### Generate chains and degradation\n",
    "\n",
    "Create ```N``` configurations and reduced it by the chosen enzyme.\n",
    "Store dpa (degree of polymerisation of the A chain) and dpb (same) after degradation in a list called ```DP_list```.\n",
    "Equivalent as applying ISOAMYLASE.\n",
    "\n",
    "<br>\n",
    "<font color='red'>  Xa, Xb can be changed:  </font> \n",
    "\n"
   ]
  },
  {
   "cell_type": "code",
   "execution_count": 399,
   "metadata": {},
   "outputs": [],
   "source": [
    "Xa,Xb = 6,9\n",
    "\n",
    "DP_list = []; N=1000\n",
    "for k in range(N):\n",
    "    local_config = structure(Xa,Xb)\n",
    "    #print('before : ',local_config.dpa,local_config.dpb,local_config.location)\n",
    "    Pul.act(local_config)\n",
    "    DP_list.extend([local_config.dpa,local_config.dpb])\n",
    "    #print('after : ',local_config.dpa,local_config.dpb,local_config.location)\n",
    "    #print('')\n",
    "    del local_config"
   ]
  },
  {
   "cell_type": "markdown",
   "metadata": {},
   "source": [
    "### Plot of the results\n"
   ]
  },
  {
   "cell_type": "code",
   "execution_count": 403,
   "metadata": {
    "scrolled": true
   },
   "outputs": [
    {
     "data": {
      "image/png": "[encoded data removed]",
      "text/plain": [
       "<Figure size 432x288 with 1 Axes>"
      ]
     },
     "metadata": {},
     "output_type": "display_data"
    }
   ],
   "source": [
    "bins1 = np.linspace(0, max(DP_list)+1 , max(DP_list)+2)\n",
    "\n",
    "plt.figure()\n",
    "plt.hist(DP_list, bins = bins1, density = 1 ,edgecolor = 'black', align='left')\n",
    "plt.xlabel('DP',fontsize = 14), plt.ylabel('relative abundances [%]',fontsize = 14)\n",
    "plt.tick_params(axis='both', which='major', labelsize = 12)\n",
    "plt.text(4, 0.3, 'Initial Xa: '+str(Xa)+' and Xb: '+str(Xb),fontsize = 12)\n",
    "plt.xticks(bins1)\n",
    "plt.show()\n",
    "\n"
   ]
  },
  {
   "cell_type": "code",
   "execution_count": null,
   "metadata": {},
   "outputs": [],
   "source": []
  }
 ],
 "metadata": {
  "kernelspec": {
   "display_name": "Python 3",
   "language": "python",
   "name": "python3"
  },
  "language_info": {
   "codemirror_mode": {
    "name": "ipython",
    "version": 3
   },
   "file_extension": ".py",
   "mimetype": "text/x-python",
   "name": "python",
   "nbconvert_exporter": "python",
   "pygments_lexer": "ipython3",
   "version": "3.6.9"
  }
 },
 "nbformat": 4,
 "nbformat_minor": 2
}
